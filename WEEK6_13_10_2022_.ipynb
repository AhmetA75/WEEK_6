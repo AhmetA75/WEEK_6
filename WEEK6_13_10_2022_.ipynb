{
  "nbformat": 4,
  "nbformat_minor": 0,
  "metadata": {
    "colab": {
      "provenance": [],
      "collapsed_sections": [],
      "authorship_tag": "ABX9TyO5tS1VVX13K48xVo0/hhiF",
      "include_colab_link": true
    },
    "kernelspec": {
      "name": "python3",
      "display_name": "Python 3"
    },
    "language_info": {
      "name": "python"
    }
  },
  "cells": [
    {
      "cell_type": "markdown",
      "metadata": {
        "id": "view-in-github",
        "colab_type": "text"
      },
      "source": [
        "<a href=\"https://colab.research.google.com/github/AhmetA75/WEEK_6/blob/main/WEEK6_13_10_2022_.ipynb\" target=\"_parent\"><img src=\"https://colab.research.google.com/assets/colab-badge.svg\" alt=\"Open In Colab\"/></a>"
      ]
    },
    {
      "cell_type": "markdown",
      "source": [
        "S_1.1: Json ile dictionary farkı nedir? \n",
        "\n",
        "C_1.1: Json dictionary e çok benzer bir veri yapısıdır asıl amacı dictionary verilerini belli kurallar içerisinde diğer dilere ve alt dillere bozulmadan kolayca aktarılmasını sağlamaktır\n",
        "\n",
        "S_1.2: Neden Encode kullandık?\n",
        "\n",
        "C_1.2: Verinin başka platformlara aktarılırken güvenliğini sağlamak amacıyla kullanılır.\n",
        "\n",
        "S_1.3: Neden data.encode.utf-8nşeklinde kullanmadık\n",
        "\n",
        "C_1.3: Kafka kullandığımız için veriyi önce json formatına dönüştürmeli sonra encode etmeliyiz.\n",
        "\n",
        "S_2.1: Json dumps nedir?\n",
        "\n",
        "C_2.1: Objecti json a çevirmek için kullanılan yöntemdir.\n",
        "\n",
        "S_2.2: Json load nedir?\n",
        "\n",
        "C_2.2: Json verilerini Python verilerine çevirir\n",
        "\n",
        "S_2.2: Json loads nedir?\n",
        "\n",
        "C_2.2: Json verilerini Python verilerine parametre olarak çevirir\n",
        "\n",
        "S_3.1: Docker containerinin çalıştığı networku ve ip adresini göstermek\n",
        "\n",
        "C_3.1: docker inspect -f '{{range.NetworkSettings.Networks}}{{.IPAddress}}{{end}}' container adı\n",
        "\n",
        "S_4.1: json.dump\n",
        "\n",
        "C_4.1 : producer.send( OREDER_KAFKA_TOPİC, with open(\"sample.json\", \"w\") as outfile: json.dump(data, outfile) f = open(\"demofile.txt\", \"r\") f.read() )\n",
        "\n",
        "S_5.1: Neden UTF-8 kullanıyoruz?\n",
        "\n",
        "C_5.1: UTF-8 dünyadaki en yaygın encoding fortmatıdır aktarılan verideki yazım dilnden farklarının başka bir dile çevrildiğinde karakter farklarından oluşan bozulmaları önler çoklu dil kullanımındaki karmaşıklıkları da büyük oranda giderir.\n",
        "\n",
        "S_6.1: 192.168.0.1 nedir ve 127.00.01 arasındaki fark nedir?\n",
        "\n",
        "C_6.1: 192.168.0.1 modem veya ağ yönlendiricisindeki default ip adresidir. 127.00.01 localhost ip adresidir bilgisayardaki yüklü uygulamalar tarafından local olarak kullanılır web de kullanılamaz \n"
      ],
      "metadata": {
        "id": "pCCIkaZqD3mB"
      }
    }
  ]
}